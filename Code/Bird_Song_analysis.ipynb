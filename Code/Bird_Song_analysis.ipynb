{
 "cells": [
  {
   "cell_type": "markdown",
   "id": "287eb9c6",
   "metadata": {
    "id": "287eb9c6"
   },
   "source": [
    "**TDA Bird Songs Analysis**\n",
    "\n",
    "This notebook analyzes bird songs using topological data analysis. To run this notebook in Google Colab, click the badge below:\n",
    "\n",
    "[![Open in Colab](https://colab.research.google.com/assets/colab-badge.svg)](https://colab.research.google.com/github/navyanthkusampudi/TDA_BirdSongs/blob/main/Bird_Song_analysis.ipynb)"
   ]
  },
  {
   "cell_type": "markdown",
   "id": "0dafe626",
   "metadata": {},
   "source": [
    "**Setup**"
   ]
  },
  {
   "cell_type": "code",
   "execution_count": null,
   "id": "b028a580",
   "metadata": {
    "ExecuteTime": {
     "end_time": "2024-07-25T18:47:25.199633Z",
     "start_time": "2024-07-25T18:47:25.193543Z"
    },
    "code_folding": [
     0
    ]
   },
   "outputs": [],
   "source": [
    "#The code below will clone the repository and set up the environment in Google Colab.\n",
    "\n",
    "import sys\n",
    "import os\n",
    "\n",
    "if 'google.colab' in sys.modules:\n",
    "    # clone the repository only if running in google colab\n",
    "    !git clone https://github.com/navyanthkusampudi/TDA_BirdSongs.git\n",
    "    %cd TDA_BirdSongs\n",
    "    \n",
    "# Ensure the modules directory is in the Python path\n",
    "#sys.path.append(os.path.abspath('TDA_BirdSongs/modules'))"
   ]
  },
  {
   "cell_type": "markdown",
   "id": "1aa7bb80",
   "metadata": {
    "jp-MarkdownHeadingCollapsed": true
   },
   "source": [
    "**Import libraries**"
   ]
  },
  {
   "cell_type": "code",
   "execution_count": null,
   "id": "5f5a9a3a",
   "metadata": {
    "ExecuteTime": {
     "end_time": "2024-07-25T18:47:25.621340Z",
     "start_time": "2024-07-25T18:47:25.617201Z"
    }
   },
   "outputs": [],
   "source": [
    "import sys\n",
    "import os\n",
    "import matplotlib.pyplot as plt\n",
    "import numpy as np\n",
    "\n",
    "# Add the directory containing the 'modules' package to the system path\n",
    "sys.path.append(os.path.abspath('..'))\n"
   ]
  },
  {
   "cell_type": "code",
   "execution_count": null,
   "id": "550e34a6",
   "metadata": {
    "ExecuteTime": {
     "end_time": "2024-07-25T18:47:27.661981Z",
     "start_time": "2024-07-25T18:47:25.849334Z"
    }
   },
   "outputs": [],
   "source": [
    "from modules import utilityFunctions"
   ]
  },
  {
   "cell_type": "code",
   "execution_count": null,
   "id": "c241b667",
   "metadata": {},
   "outputs": [],
   "source": []
  },
  {
   "cell_type": "markdown",
   "id": "6389c0eb",
   "metadata": {},
   "source": [
    "Incase any libraby is not installed we recommend to do it using !pip install library --user"
   ]
  },
  {
   "cell_type": "markdown",
   "id": "ab67c161",
   "metadata": {},
   "source": [
    "## Sonuds"
   ]
  },
  {
   "cell_type": "markdown",
   "id": "4b346818",
   "metadata": {},
   "source": [
    "#### Get data"
   ]
  },
  {
   "cell_type": "code",
   "execution_count": null,
   "id": "fabca4ca",
   "metadata": {
    "ExecuteTime": {
     "end_time": "2024-07-25T18:47:28.781474Z",
     "start_time": "2024-07-25T18:47:28.778133Z"
    }
   },
   "outputs": [],
   "source": [
    "from modules.utilityFunctions import wav, wavPlayer"
   ]
  },
  {
   "cell_type": "code",
   "execution_count": null,
   "id": "f42d0cfb",
   "metadata": {
    "ExecuteTime": {
     "end_time": "2024-07-25T18:47:29.076834Z",
     "start_time": "2024-07-25T18:47:29.073586Z"
    }
   },
   "outputs": [],
   "source": [
    "#! wget https://github.com/navyRUB/nonlinear_DYnamics/raw/master/sound/data/XC629908_Great_Tit_Parus_major.wav\n",
    "file = 'data/bird_sounds/XC629908_Great_Tit_Parus_major.wav'"
   ]
  },
  {
   "cell_type": "code",
   "execution_count": null,
   "id": "ea91d035",
   "metadata": {
    "ExecuteTime": {
     "end_time": "2024-07-25T18:47:30.056466Z",
     "start_time": "2024-07-25T18:47:30.049887Z"
    }
   },
   "outputs": [],
   "source": [
    "rate,data = wav.read(file)\n",
    "print(data.shape)"
   ]
  },
  {
   "cell_type": "code",
   "execution_count": null,
   "id": "3cbc0677",
   "metadata": {
    "ExecuteTime": {
     "end_time": "2024-07-25T18:47:30.282928Z",
     "start_time": "2024-07-25T18:47:30.274200Z"
    }
   },
   "outputs": [],
   "source": [
    "wavPlayer(file)"
   ]
  },
  {
   "cell_type": "markdown",
   "id": "f3821aed",
   "metadata": {},
   "source": [
    "####  Select data range"
   ]
  },
  {
   "cell_type": "code",
   "execution_count": null,
   "id": "23080330",
   "metadata": {
    "ExecuteTime": {
     "end_time": "2024-07-25T18:47:31.554440Z",
     "start_time": "2024-07-25T18:47:31.546223Z"
    }
   },
   "outputs": [],
   "source": [
    "total_index = data.shape[0]\n",
    "total_time = 0*60+16  #sec\n",
    "\n",
    "from_time = 0*60 + 1#sec\n",
    "to_time =0*60 +4#sec\n",
    "\n",
    "# Extract data\n",
    "from_index = np.int32(total_index*from_time/total_time)\n",
    "to_index = np.int32(total_index*to_time/total_time)\n",
    "try:\n",
    "  sound = data[from_index:to_index,0]\n",
    "except:\n",
    "  sound = data[from_index:to_index]\n",
    "sound.shape,rate"
   ]
  },
  {
   "cell_type": "markdown",
   "id": "2396a116",
   "metadata": {
    "heading_collapsed": true
   },
   "source": [
    "#### 1. Spectogram"
   ]
  },
  {
   "cell_type": "code",
   "execution_count": null,
   "id": "0473baa6",
   "metadata": {
    "ExecuteTime": {
     "end_time": "2024-07-25T18:31:22.865573Z",
     "start_time": "2024-07-25T18:31:22.220011Z"
    },
    "code_folding": [
     0
    ],
    "hidden": true
   },
   "outputs": [],
   "source": [
    "#@title Spectogram { display-mode: \"form\" }\n",
    "# time series\n",
    "plt.figure(figsize=(20,5),facecolor='white')\n",
    "plt.rcParams['axes.facecolor']='white'\n",
    "plt.specgram(sound, Fs=rate,cmap='viridis')\n",
    "plt.xlabel('Time [sec]',color='black',fontsize=18)\n",
    "plt.ylabel('Frequency [Hz]',color='black',fontsize=18)\n",
    "plt.xticks(color='black',fontsize=20)\n",
    "plt.yticks(color='black',fontsize=18)\n",
    "plt.ylim(0,17500)\n",
    "plt.show()"
   ]
  },
  {
   "cell_type": "markdown",
   "id": "5b05501f",
   "metadata": {
    "heading_collapsed": true
   },
   "source": [
    "#### 2. Time series"
   ]
  },
  {
   "cell_type": "code",
   "execution_count": null,
   "id": "1c8a9dbd",
   "metadata": {
    "ExecuteTime": {
     "end_time": "2024-07-25T18:31:25.338927Z",
     "start_time": "2024-07-25T18:31:25.068901Z"
    },
    "code_folding": [
     0
    ],
    "hidden": true
   },
   "outputs": [],
   "source": [
    "#@title Time seriest { display-mode: \"form\" }\n",
    "# time series\n",
    "plt.figure(figsize=(20,5),facecolor='white')\n",
    "plt.rcParams['axes.facecolor']='white'\n",
    "plt.plot(sound,'blue',alpha=0.7)\n",
    "plt.xlabel('Data index',color='black',fontsize=20)\n",
    "plt.ylabel('Amplitude',color='black',fontsize=20)\n",
    "plt.xticks(color='black',fontsize=20)\n",
    "plt.yticks(color='black',fontsize=20)\n",
    "plt.xlim(0,90000)\n",
    "plt.show()"
   ]
  },
  {
   "cell_type": "markdown",
   "id": "d14b481f",
   "metadata": {},
   "source": [
    "#### 3. Sliders for Attractor"
   ]
  },
  {
   "cell_type": "code",
   "execution_count": null,
   "id": "60404c3e",
   "metadata": {
    "ExecuteTime": {
     "end_time": "2024-07-25T18:47:43.327910Z",
     "start_time": "2024-07-25T18:47:43.324154Z"
    }
   },
   "outputs": [],
   "source": [
    "from modules.utilityFunctions import parameter\n",
    "from modules.utilityFunctions import plot_scatter, plot_attractor\n",
    "from modules.utilityFunctions import widget_dynamics"
   ]
  },
  {
   "cell_type": "code",
   "execution_count": null,
   "id": "556f64bc",
   "metadata": {
    "ExecuteTime": {
     "end_time": "2024-07-25T18:30:28.680386Z",
     "start_time": "2024-07-25T18:30:27.539328Z"
    }
   },
   "outputs": [],
   "source": [
    "plot_scatter(sound)"
   ]
  },
  {
   "cell_type": "code",
   "execution_count": null,
   "id": "ba17eb45",
   "metadata": {
    "ExecuteTime": {
     "end_time": "2024-07-25T18:47:44.879502Z",
     "start_time": "2024-07-25T18:47:44.876001Z"
    }
   },
   "outputs": [],
   "source": [
    "timeseries_data = sound\n",
    "my_from_idx= 14770.00\n",
    "my_size = 15726 - my_from_idx"
   ]
  },
  {
   "cell_type": "code",
   "execution_count": null,
   "id": "f7d134f9",
   "metadata": {
    "ExecuteTime": {
     "end_time": "2024-07-25T18:31:28.702009Z",
     "start_time": "2024-07-25T18:31:28.461330Z"
    }
   },
   "outputs": [],
   "source": [
    "#@title Attractor { display-mode: \"form\" }\n",
    "# plot Attractor\n",
    "\n",
    "\n",
    "my_attractor_parameters = [parameter(\"index\",my_from_idx,0,timeseries_data.shape[0]-1,300),\n",
    "                           parameter(\"size\",my_size,20,50000,50),\n",
    "                           parameter(\"tau\",3,1,300,1),\n",
    "                           parameter(\"g_alpha\",0.1,0.01,1.0,0.01),\n",
    "                           parameter(\"g_size\",1.0,0.01,10,0.01),\n",
    "                           parameter(\"c_size\",0.20,0.01,10,0.01)\n",
    "                          ]\n",
    "aa = utilityFunctions.widget_dynamics(function=plot_attractor,\n",
    "               parameters=my_attractor_parameters,\n",
    "               fixed_params=timeseries_data)"
   ]
  },
  {
   "cell_type": "markdown",
   "id": "b0975422",
   "metadata": {},
   "source": [
    "#### 4. Animation for Attractor"
   ]
  },
  {
   "cell_type": "code",
   "execution_count": null,
   "id": "ac640e72",
   "metadata": {
    "ExecuteTime": {
     "end_time": "2024-07-25T18:47:46.751856Z",
     "start_time": "2024-07-25T18:47:46.748294Z"
    }
   },
   "outputs": [],
   "source": [
    "from modules.utilityFunctions import get_delay_coordinates\n",
    "from modules.utilityFunctions import plot_attractor_animation"
   ]
  },
  {
   "cell_type": "code",
   "execution_count": null,
   "id": "8f18238b",
   "metadata": {
    "ExecuteTime": {
     "end_time": "2024-07-25T18:34:34.496671Z",
     "start_time": "2024-07-25T18:34:32.094033Z"
    }
   },
   "outputs": [],
   "source": [
    "# animation\n",
    "crop_size = 200\n",
    "timeseries_data = sound\n",
    "my_from_idx= 14770\n",
    "my_size = 24770 - my_from_idx\n",
    "x1,x2 = get_delay_coordinates(sound[my_from_idx:my_from_idx+my_size],2)\n",
    "plot_attractor_animation(x1,x2,crop_size, sound)"
   ]
  },
  {
   "cell_type": "markdown",
   "id": "f6450b16",
   "metadata": {},
   "source": [
    "#### Mutual information"
   ]
  },
  {
   "cell_type": "code",
   "execution_count": null,
   "id": "249e678c",
   "metadata": {
    "ExecuteTime": {
     "end_time": "2024-07-25T18:47:49.880801Z",
     "start_time": "2024-07-25T18:47:49.877079Z"
    }
   },
   "outputs": [],
   "source": [
    "from modules.utilityFunctions import plot_mutual_information"
   ]
  },
  {
   "cell_type": "code",
   "execution_count": null,
   "id": "8637003b",
   "metadata": {
    "ExecuteTime": {
     "end_time": "2024-07-25T18:35:59.049417Z",
     "start_time": "2024-07-25T18:35:58.833981Z"
    }
   },
   "outputs": [],
   "source": [
    "plot_mutual_information(sound[10000:10900])"
   ]
  },
  {
   "cell_type": "markdown",
   "id": "7287fae0",
   "metadata": {},
   "source": [
    "## Topological data analysis"
   ]
  },
  {
   "cell_type": "code",
   "execution_count": null,
   "id": "15217f58",
   "metadata": {
    "ExecuteTime": {
     "end_time": "2024-07-25T18:47:51.104894Z",
     "start_time": "2024-07-25T18:47:51.101361Z"
    }
   },
   "outputs": [],
   "source": [
    "from modules.utilityFunctions import delay_coordinates_highDim\n",
    "from modules.utilityFunctions import PCA"
   ]
  },
  {
   "cell_type": "code",
   "execution_count": null,
   "id": "494bef08",
   "metadata": {
    "ExecuteTime": {
     "end_time": "2024-07-25T18:47:52.133718Z",
     "start_time": "2024-07-25T18:47:52.092764Z"
    }
   },
   "outputs": [],
   "source": [
    "from ripser import ripser\n",
    "from persim import plot_diagrams"
   ]
  },
  {
   "cell_type": "code",
   "execution_count": null,
   "id": "404cbd09",
   "metadata": {
    "ExecuteTime": {
     "end_time": "2024-07-25T18:47:53.074652Z",
     "start_time": "2024-07-25T18:47:53.068892Z"
    }
   },
   "outputs": [],
   "source": [
    "sound_selected = sound[24364:29957]\n",
    "sound_selected.shape"
   ]
  },
  {
   "cell_type": "code",
   "execution_count": null,
   "id": "eb805ac6",
   "metadata": {
    "ExecuteTime": {
     "end_time": "2024-07-25T18:51:24.248325Z",
     "start_time": "2024-07-25T18:51:24.235522Z"
    },
    "code_folding": []
   },
   "outputs": [],
   "source": [
    "def TDA(zoom_start,window_size,tau,m):\n",
    "\n",
    "  # data to plot\n",
    "  y = sound_selected\n",
    "  x = np.arange(0,len(y),1)\n",
    "  # Define zoomed interval: i.e the data interval to select for analysis\n",
    "  zoom_start = np.int32(zoom_start)\n",
    "  window_size = np.int32(window_size)\n",
    "\n",
    "  tau = np.int32(tau)\n",
    "  m = np.int32(m)\n",
    "\n",
    "\n",
    "  zoom_end = zoom_start + window_size\n",
    "\n",
    "\n",
    "  # delay embedding\n",
    "  embedding  = delay_coordinates_highDim(y[zoom_start:zoom_end], tau, m)\n",
    "\n",
    "  # PCA\n",
    "  pca = PCA(n_components=3)\n",
    "  pca_embedding = pca.fit_transform(embedding)\n",
    "\n",
    "  # persistent homology on PCA embeding\n",
    "  if len(embedding)<1000:\n",
    "    dgms = ripser(embedding,coeff=2,maxdim=1)['dgms']\n",
    "\n",
    "  else:   #subsampling the manifold to save computation cost\n",
    "    dgms = ripser(embedding,coeff=2,maxdim=1,n_perm=1000)['dgms']\n",
    "\n",
    "\n",
    "  ################### Plotting\n",
    "\n",
    "\n",
    "\n",
    "  # Create figure and subplots\n",
    "  fig = plt.figure(figsize=(12,1))\n",
    "  #ax = fig.add_subplot(131, projection='3d')\n",
    "\n",
    "  # Plot full signal in ax1\n",
    "  ax1 = fig.add_subplot(121)\n",
    "  ax1.plot(x, y, 'y-', linewidth=1,alpha=0.2)\n",
    "  ax1.scatter(x,y,c='y',s=2)\n",
    "  ax1.set_ylabel('Signal')\n",
    "  ax1.set_xlim([x[0], x[-1]])\n",
    "  # Draw rectangle for zoomed interval in ax1\n",
    "  rect = plt.Rectangle((zoom_start, np.min(y)), zoom_end - zoom_start, 2*np.max(y), facecolor='blue', alpha=0.5)\n",
    "  ax1.add_patch(rect)\n",
    "\n",
    "  # Plot zoomed interval in ax2\n",
    "  ax2 = fig.add_subplot(122)\n",
    "  ax2.plot(x[zoom_start:zoom_end], y[zoom_start:zoom_end], 'y-', linewidth=1,alpha=0.2)\n",
    "  ax2.scatter(x[zoom_start:zoom_end], y[zoom_start:zoom_end], c='y',s=2)\n",
    "  ax2.set_ylabel('Signal')\n",
    "  ax2.set_xlim([zoom_start, zoom_end])\n",
    "  plt.show()\n",
    "\n",
    "  fig = plt.figure(figsize=(12,4))\n",
    "  # pca\n",
    "  ax = fig.add_subplot(121, projection='3d')\n",
    "  ax.scatter(pca_embedding[:,0], pca_embedding[:,1], pca_embedding[:,2],\n",
    "              c= np.linspace(0,1,len(pca_embedding)))\n",
    "  #ax.set_aspect('equal')\n",
    "  plt.title('PCA')\n",
    "\n",
    "  # holology\n",
    "  plt.subplot(122)\n",
    "  plot_diagrams(dgms,size=20)\n",
    "  plt.show()\n"
   ]
  },
  {
   "cell_type": "code",
   "execution_count": null,
   "id": "f8d6eb65",
   "metadata": {
    "ExecuteTime": {
     "end_time": "2024-07-25T18:51:25.069970Z",
     "start_time": "2024-07-25T18:51:25.066609Z"
    }
   },
   "outputs": [],
   "source": [
    "import matplotlib.pyplot as plt\n",
    "\n",
    "plt.rcParams['text.usetex'] = False"
   ]
  },
  {
   "cell_type": "code",
   "execution_count": null,
   "id": "8a414226",
   "metadata": {
    "ExecuteTime": {
     "end_time": "2024-07-25T18:51:36.440769Z",
     "start_time": "2024-07-25T18:51:34.428503Z"
    }
   },
   "outputs": [],
   "source": [
    "# define your parameters\n",
    "my_parameters = [parameter(\"zoom_start\",250,0,len(sound_selected),50),\n",
    "                  parameter(\"window_size\",1900,2,len(sound_selected)-200,10),\n",
    "                 parameter(\"tau\",3,1,400,1),\n",
    "                 parameter(\"m\",20,2,100,1)]\n",
    "\n",
    "# call widgets\n",
    "widget_dynamics(function=TDA,\n",
    "               parameters=my_parameters)"
   ]
  },
  {
   "cell_type": "code",
   "execution_count": null,
   "id": "8b47134f",
   "metadata": {},
   "outputs": [],
   "source": []
  }
 ],
 "metadata": {
  "colab": {
   "include_colab_link": true,
   "provenance": []
  },
  "kernelspec": {
   "display_name": "Python 3 (ipykernel)",
   "language": "python",
   "name": "python3"
  },
  "language_info": {
   "codemirror_mode": {
    "name": "ipython",
    "version": 3
   },
   "file_extension": ".py",
   "mimetype": "text/x-python",
   "name": "python",
   "nbconvert_exporter": "python",
   "pygments_lexer": "ipython3",
   "version": "3.9.15"
  },
  "toc": {
   "base_numbering": 1,
   "nav_menu": {},
   "number_sections": true,
   "sideBar": true,
   "skip_h1_title": false,
   "title_cell": "Table of Contents",
   "title_sidebar": "Contents",
   "toc_cell": false,
   "toc_position": {},
   "toc_section_display": true,
   "toc_window_display": false
  },
  "varInspector": {
   "cols": {
    "lenName": 16,
    "lenType": 16,
    "lenVar": 40
   },
   "kernels_config": {
    "python": {
     "delete_cmd_postfix": "",
     "delete_cmd_prefix": "del ",
     "library": "var_list.py",
     "varRefreshCmd": "print(var_dic_list())"
    },
    "r": {
     "delete_cmd_postfix": ") ",
     "delete_cmd_prefix": "rm(",
     "library": "var_list.r",
     "varRefreshCmd": "cat(var_dic_list()) "
    }
   },
   "types_to_exclude": [
    "module",
    "function",
    "builtin_function_or_method",
    "instance",
    "_Feature"
   ],
   "window_display": false
  }
 },
 "nbformat": 4,
 "nbformat_minor": 5
}
