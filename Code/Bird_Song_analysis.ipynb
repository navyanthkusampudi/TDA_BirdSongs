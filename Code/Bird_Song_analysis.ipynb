{
 "cells": [
  {
   "cell_type": "markdown",
   "id": "287eb9c6",
   "metadata": {
    "id": "287eb9c6"
   },
   "source": [
    "**TDA Bird Songs Analysis**\n",
    "\n",
    "This notebook analyzes bird songs using topological data analysis. To run this notebook in Google Colab, click the badge below:\n",
    "\n",
    "[![Open in Colab](https://colab.research.google.com/assets/colab-badge.svg)](https://colab.research.google.com/github/navyanthkusampudi/TDA_BirdSongs/blob/main/Bird_Song_analysis.ipynb)"
   ]
  },
  {
   "cell_type": "markdown",
   "id": "0dafe626",
   "metadata": {},
   "source": [
    "#### Setup"
   ]
  },
  {
   "cell_type": "code",
   "execution_count": 5,
   "id": "b028a580",
   "metadata": {
    "ExecuteTime": {
     "end_time": "2024-07-25T16:55:15.085986Z",
     "start_time": "2024-07-25T16:55:15.078713Z"
    },
    "code_folding": [
     0
    ]
   },
   "outputs": [],
   "source": [
    "#The code below will clone the repository and set up the environment in Google Colab.\n",
    "\n",
    "import sys\n",
    "import os\n",
    "\n",
    "if 'google.colab' in sys.modules:\n",
    "    # clone the repository only if running in google colab\n",
    "    !git clone git@github.com:navyanthkusampudi/TDA_BirdSongs.git\n",
    "    %cd TDA_BirdSongs\n",
    "    \n",
    "# ensure modules directory is in the python path\n",
    "sys.path.append('TDA_BirdSongs/modules')"
   ]
  },
  {
   "cell_type": "markdown",
   "id": "1aa7bb80",
   "metadata": {},
   "source": [
    "#### Import libraries"
   ]
  },
  {
   "cell_type": "markdown",
   "id": "6389c0eb",
   "metadata": {},
   "source": [
    "Incase any libraby is not installed we recommend to do it using !pip install library --user"
   ]
  },
  {
   "cell_type": "code",
   "execution_count": null,
   "id": "37692f05",
   "metadata": {},
   "outputs": [],
   "source": []
  },
  {
   "cell_type": "code",
   "execution_count": null,
   "id": "ab67c161",
   "metadata": {},
   "outputs": [],
   "source": []
  },
  {
   "cell_type": "code",
   "execution_count": null,
   "id": "f42d0cfb",
   "metadata": {},
   "outputs": [],
   "source": []
  },
  {
   "cell_type": "code",
   "execution_count": null,
   "id": "2537bec7",
   "metadata": {},
   "outputs": [],
   "source": []
  },
  {
   "cell_type": "code",
   "execution_count": 4,
   "id": "fac89ef9",
   "metadata": {
    "ExecuteTime": {
     "end_time": "2024-07-25T16:31:11.488552Z",
     "start_time": "2024-07-25T16:31:09.611968Z"
    },
    "code_folding": [
     4,
     8,
     18
    ]
   },
   "outputs": [
    {
     "name": "stdout",
     "output_type": "stream",
     "text": [
      "Requirement already satisfied: scikit-learn in /nethome/home4/n.kusampudi/miniconda3/envs/tf/lib/python3.9/site-packages (1.1.3)\n",
      "Requirement already satisfied: scipy>=1.3.2 in /nethome/home4/n.kusampudi/miniconda3/envs/tf/lib/python3.9/site-packages (from scikit-learn) (1.9.3)\n",
      "Requirement already satisfied: joblib>=1.0.0 in /nethome/home4/n.kusampudi/miniconda3/envs/tf/lib/python3.9/site-packages (from scikit-learn) (1.2.0)\n",
      "Requirement already satisfied: numpy>=1.17.3 in /nethome/home4/n.kusampudi/miniconda3/envs/tf/lib/python3.9/site-packages (from scikit-learn) (1.24.1)\n",
      "Requirement already satisfied: threadpoolctl>=2.0.0 in /nethome/home4/n.kusampudi/miniconda3/envs/tf/lib/python3.9/site-packages (from scikit-learn) (3.1.0)\n",
      "%pylab is deprecated, use %matplotlib inline and import the required libraries.\n",
      "Populating the interactive namespace from numpy and matplotlib\n"
     ]
    }
   ],
   "source": [
    "import subprocess\n",
    "import sys\n",
    "\n",
    "# Function to install packages\n",
    "def install(package):\n",
    "    subprocess.check_call([sys.executable, \"-m\", \"pip\", \"install\", package, \"--user\"])\n",
    "\n",
    "# Check and install packages\n",
    "def check_and_install(packages):\n",
    "    \n",
    "    for package in packages:\n",
    "        try:\n",
    "            __import__(package)\n",
    "            \n",
    "        except ImportError:\n",
    "            install(package)\n",
    "            \n",
    "# List of required packages\n",
    "packages = [\n",
    "            'scipy', 'matplotlib', 'numpy', 'scikit-learn', 'ipywidgets', \n",
    "            'plotly', 'pandas'\n",
    "            ]\n",
    "\n",
    "# Check and install required packages\n",
    "check_and_install(packages)\n",
    "\n",
    "\n",
    "# Importing necessary libraries\n",
    "import scipy.constants as const\n",
    "from scipy.io import wavfile as wav\n",
    "from scipy.fftpack import fft\n",
    "from scipy.spatial import Voronoi, voronoi_plot_2d\n",
    "import scipy\n",
    "\n",
    "from IPython.core.display import HTML\n",
    "import matplotlib.pyplot as plt\n",
    "import numpy as np\n",
    "from sklearn import datasets\n",
    "from sklearn.decomposition import PCA\n",
    "from sklearn.preprocessing import minmax_scale\n",
    "from sklearn.metrics import pairwise\n",
    "\n",
    "from mpl_toolkits.mplot3d import Axes3D\n",
    "from ipywidgets import interact, interactive, fixed, interact_manual, widgets\n",
    "\n",
    "import plotly.express as px\n",
    "import pandas as pd\n",
    "from plotly.subplots import make_subplots\n",
    "import plotly.graph_objs as go\n",
    "\n",
    "from matplotlib import animation\n",
    "import matplotlib.cm as cm\n",
    "\n",
    "# Enable inline plotting\n",
    "%pylab inline"
   ]
  },
  {
   "cell_type": "code",
   "execution_count": null,
   "id": "52456657",
   "metadata": {},
   "outputs": [],
   "source": []
  }
 ],
 "metadata": {
  "colab": {
   "include_colab_link": true,
   "provenance": []
  },
  "kernelspec": {
   "display_name": "Python 3 (ipykernel)",
   "language": "python",
   "name": "python3"
  },
  "language_info": {
   "codemirror_mode": {
    "name": "ipython",
    "version": 3
   },
   "file_extension": ".py",
   "mimetype": "text/x-python",
   "name": "python",
   "nbconvert_exporter": "python",
   "pygments_lexer": "ipython3",
   "version": "3.9.15"
  },
  "toc": {
   "base_numbering": 1,
   "nav_menu": {},
   "number_sections": true,
   "sideBar": true,
   "skip_h1_title": false,
   "title_cell": "Table of Contents",
   "title_sidebar": "Contents",
   "toc_cell": false,
   "toc_position": {},
   "toc_section_display": true,
   "toc_window_display": false
  },
  "varInspector": {
   "cols": {
    "lenName": 16,
    "lenType": 16,
    "lenVar": 40
   },
   "kernels_config": {
    "python": {
     "delete_cmd_postfix": "",
     "delete_cmd_prefix": "del ",
     "library": "var_list.py",
     "varRefreshCmd": "print(var_dic_list())"
    },
    "r": {
     "delete_cmd_postfix": ") ",
     "delete_cmd_prefix": "rm(",
     "library": "var_list.r",
     "varRefreshCmd": "cat(var_dic_list()) "
    }
   },
   "types_to_exclude": [
    "module",
    "function",
    "builtin_function_or_method",
    "instance",
    "_Feature"
   ],
   "window_display": false
  }
 },
 "nbformat": 4,
 "nbformat_minor": 5
}
